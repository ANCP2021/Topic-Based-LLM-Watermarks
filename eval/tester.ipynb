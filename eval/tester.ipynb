{
 "cells": [
  {
   "cell_type": "code",
   "execution_count": 11,
   "metadata": {},
   "outputs": [],
   "source": [
    "import torch\n",
    "from model import load_model, generate, detect\n",
    "from inputs import sports_input, technology_input, animals_input\n",
    "from baseline import BaselineAttack\n"
   ]
  },
  {
   "cell_type": "code",
   "execution_count": 8,
   "metadata": {},
   "outputs": [],
   "source": [
    "with open('./watermarked_outputs/sports_watermarked.txt', 'r') as file:\n",
    "    content = file.read()\n",
    "\n",
    "device = torch.device(\"cuda\" if torch.cuda.is_available() else \"cpu\")\n",
    "\n",
    "args = {\n",
    "    'demo_public': False, \n",
    "    # 'model_name_or_path': 'facebook/opt-125m', \n",
    "    'model_name_or_path': 'facebook/opt-1.3b', \n",
    "    # 'model_name_or_path': 'facebook/opt-2.7b', \n",
    "    # 'model_name_or_path': 'facebook/opt-6.7b',\n",
    "    # 'model_name_or_path': 'facebook/opt-13b',\n",
    "    # 'load_fp16' : True,\n",
    "    'load_fp16' : False,\n",
    "    'prompt_max_length': None, \n",
    "    'max_new_tokens': 200, \n",
    "    'generation_seed': 123, \n",
    "    'use_sampling': True, \n",
    "    'n_beams': 1, \n",
    "    'sampling_temp': 0.7, \n",
    "    'use_gpu': True, \n",
    "    'seeding_scheme': 'simple_1', \n",
    "    'gamma': 0.7, \n",
    "    'delta': 2.0, \n",
    "    'normalizers': '', \n",
    "    'ignore_repeated_bigrams': False, \n",
    "    'detection_z_threshold': 1.0, \n",
    "    'select_green_tokens': True,\n",
    "    'skip_model_load': False,\n",
    "    'seed_separately': True,\n",
    "    'is_topic': True,\n",
    "    'topic_token_mapping': {\n",
    "        \"sports\": list(range(20000)),\n",
    "        \"animals\": list(range(20000, 40000)),\n",
    "        \"technology\": list(range(40000, 60000)),\n",
    "        # Add more topics and corresponding tokens as needed\n",
    "    },\n",
    "    'detected_topic': \"\",\n",
    "}"
   ]
  },
  {
   "cell_type": "code",
   "execution_count": 9,
   "metadata": {},
   "outputs": [
    {
     "name": "stdout",
     "output_type": "stream",
     "text": [
      "[['Tokens Counted (T)', '200'], ['# Tokens in Greenlist', '154'], ['Fraction of T in Greenlist', '77.0%'], ['z-score', '2.16'], ['p value', '0.0154'], ['z-score Threshold', '1.0'], ['Prediction', 'Watermarked'], ['Confidence', '98.462%'], []]\n"
     ]
    }
   ],
   "source": [
    "input_text = sports_input()\n",
    "model, tokenizer = load_model(args)\n",
    "\n",
    "input_prompt = input_text + content\n",
    "\n",
    "with_watermark_detection_result = detect(input_prompt, content, \n",
    "                                        args, \n",
    "                                        device=device, \n",
    "                                        tokenizer=tokenizer)\n",
    "\n",
    "print(with_watermark_detection_result)"
   ]
  },
  {
   "cell_type": "code",
   "execution_count": 12,
   "metadata": {},
   "outputs": [
    {
     "name": "stdout",
     "output_type": "stream",
     "text": [
      "[['Tokens Counted (T)', '204'], ['# Tokens in Greenlist', '158'], ['Fraction of T in Greenlist', '77.5%'], ['z-score', '2.32'], ['p value', '0.0101'], ['z-score Threshold', '1.0'], ['Prediction', 'Watermarked'], ['Confidence', '98.989%'], []]\n"
     ]
    }
   ],
   "source": [
    "baseline = BaselineAttack()\n",
    "text = baseline.inference_modify_text(content, 3, 'insert')\n",
    "\n",
    "input_prompt = input_text + text\n",
    "with_watermark_detection_result = detect(input_prompt, text, \n",
    "                                        args, \n",
    "                                        device=device, \n",
    "                                        tokenizer=tokenizer)\n",
    "\n",
    "print(with_watermark_detection_result)"
   ]
  }
 ],
 "metadata": {
  "kernelspec": {
   "display_name": "venv",
   "language": "python",
   "name": "python3"
  },
  "language_info": {
   "codemirror_mode": {
    "name": "ipython",
    "version": 3
   },
   "file_extension": ".py",
   "mimetype": "text/x-python",
   "name": "python",
   "nbconvert_exporter": "python",
   "pygments_lexer": "ipython3",
   "version": "3.12.2"
  }
 },
 "nbformat": 4,
 "nbformat_minor": 2
}
